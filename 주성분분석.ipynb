{
 "cells": [
  {
   "cell_type": "code",
   "execution_count": 18,
   "metadata": {},
   "outputs": [],
   "source": [
    "import pandas as pd\n",
    "import numpy as np\n",
    "\n",
    "# 데이터 시각화\n",
    "import matplotlib\n",
    "import matplotlib.pyplot as plt\n",
    "\n",
    "# 데이터 시각화: 추세, 산점도 행렬\n",
    "import seaborn as sns\n",
    "\n",
    "# Scale 변환 : 평균, 표준편차 기준\n",
    "from sklearn.preprocessing import StandardScaler\n",
    "\n",
    "# 주성분 분석\n",
    "from sklearn.decomposition import PCA\n",
    "\n",
    "# 회귀 분석\n",
    "import statsmodels.api as sm\n",
    "\n",
    "%matplotlib inline"
   ]
  },
  {
   "cell_type": "markdown",
   "metadata": {},
   "source": [
    "## STEP 1 : 데이터 구성하기"
   ]
  },
  {
   "cell_type": "code",
   "execution_count": 19,
   "metadata": {},
   "outputs": [
    {
     "data": {
      "text/html": [
       "<div>\n",
       "<style scoped>\n",
       "    .dataframe tbody tr th:only-of-type {\n",
       "        vertical-align: middle;\n",
       "    }\n",
       "\n",
       "    .dataframe tbody tr th {\n",
       "        vertical-align: top;\n",
       "    }\n",
       "\n",
       "    .dataframe thead th {\n",
       "        text-align: right;\n",
       "    }\n",
       "</style>\n",
       "<table border=\"1\" class=\"dataframe\">\n",
       "  <thead>\n",
       "    <tr style=\"text-align: right;\">\n",
       "      <th></th>\n",
       "      <th>EVAL</th>\n",
       "      <th>DISSATIS</th>\n",
       "      <th>PRIVILEGE</th>\n",
       "      <th>CHANCE</th>\n",
       "      <th>ADVANCE</th>\n",
       "      <th>CRITISM</th>\n",
       "      <th>PROMOTION</th>\n",
       "    </tr>\n",
       "  </thead>\n",
       "  <tbody>\n",
       "    <tr>\n",
       "      <th>0</th>\n",
       "      <td>43</td>\n",
       "      <td>51</td>\n",
       "      <td>30</td>\n",
       "      <td>39</td>\n",
       "      <td>61</td>\n",
       "      <td>92</td>\n",
       "      <td>45</td>\n",
       "    </tr>\n",
       "    <tr>\n",
       "      <th>1</th>\n",
       "      <td>63</td>\n",
       "      <td>64</td>\n",
       "      <td>51</td>\n",
       "      <td>54</td>\n",
       "      <td>63</td>\n",
       "      <td>73</td>\n",
       "      <td>47</td>\n",
       "    </tr>\n",
       "    <tr>\n",
       "      <th>2</th>\n",
       "      <td>71</td>\n",
       "      <td>70</td>\n",
       "      <td>68</td>\n",
       "      <td>69</td>\n",
       "      <td>76</td>\n",
       "      <td>86</td>\n",
       "      <td>48</td>\n",
       "    </tr>\n",
       "    <tr>\n",
       "      <th>3</th>\n",
       "      <td>61</td>\n",
       "      <td>63</td>\n",
       "      <td>45</td>\n",
       "      <td>47</td>\n",
       "      <td>54</td>\n",
       "      <td>84</td>\n",
       "      <td>35</td>\n",
       "    </tr>\n",
       "    <tr>\n",
       "      <th>4</th>\n",
       "      <td>81</td>\n",
       "      <td>78</td>\n",
       "      <td>56</td>\n",
       "      <td>66</td>\n",
       "      <td>71</td>\n",
       "      <td>83</td>\n",
       "      <td>47</td>\n",
       "    </tr>\n",
       "  </tbody>\n",
       "</table>\n",
       "</div>"
      ],
      "text/plain": [
       "   EVAL  DISSATIS  PRIVILEGE  CHANCE  ADVANCE  CRITISM  PROMOTION\n",
       "0    43        51         30      39       61       92         45\n",
       "1    63        64         51      54       63       73         47\n",
       "2    71        70         68      69       76       86         48\n",
       "3    61        63         45      47       54       84         35\n",
       "4    81        78         56      66       71       83         47"
      ]
     },
     "execution_count": 19,
     "metadata": {},
     "output_type": "execute_result"
    }
   ],
   "source": [
    "df_raw = pd.read_csv(\"/home/piai/Downloads/직무능력평가.csv\", engine = \"python\")\n",
    "df_raw.head()"
   ]
  },
  {
   "cell_type": "code",
   "execution_count": 20,
   "metadata": {},
   "outputs": [
    {
     "data": {
      "text/plain": [
       "0    43\n",
       "1    63\n",
       "2    71\n",
       "3    61\n",
       "4    81\n",
       "Name: EVAL, dtype: int64"
      ]
     },
     "execution_count": 20,
     "metadata": {},
     "output_type": "execute_result"
    }
   ],
   "source": [
    "# 데이터 분리(Y, Xs) -> 설명변수를 이용한 주성분 분석\n",
    "df_raw_y = df_raw[\"EVAL\"]\n",
    "df_raw_x = df_raw.drop(\"EVAL\",axis=1)\n",
    "\n",
    "# 주성분 분석의 목표변수\n",
    "df_raw_y.head()"
   ]
  },
  {
   "cell_type": "code",
   "execution_count": 21,
   "metadata": {},
   "outputs": [
    {
     "data": {
      "text/html": [
       "<div>\n",
       "<style scoped>\n",
       "    .dataframe tbody tr th:only-of-type {\n",
       "        vertical-align: middle;\n",
       "    }\n",
       "\n",
       "    .dataframe tbody tr th {\n",
       "        vertical-align: top;\n",
       "    }\n",
       "\n",
       "    .dataframe thead th {\n",
       "        text-align: right;\n",
       "    }\n",
       "</style>\n",
       "<table border=\"1\" class=\"dataframe\">\n",
       "  <thead>\n",
       "    <tr style=\"text-align: right;\">\n",
       "      <th></th>\n",
       "      <th>DISSATIS</th>\n",
       "      <th>PRIVILEGE</th>\n",
       "      <th>CHANCE</th>\n",
       "      <th>ADVANCE</th>\n",
       "      <th>CRITISM</th>\n",
       "      <th>PROMOTION</th>\n",
       "    </tr>\n",
       "  </thead>\n",
       "  <tbody>\n",
       "    <tr>\n",
       "      <th>0</th>\n",
       "      <td>51</td>\n",
       "      <td>30</td>\n",
       "      <td>39</td>\n",
       "      <td>61</td>\n",
       "      <td>92</td>\n",
       "      <td>45</td>\n",
       "    </tr>\n",
       "    <tr>\n",
       "      <th>1</th>\n",
       "      <td>64</td>\n",
       "      <td>51</td>\n",
       "      <td>54</td>\n",
       "      <td>63</td>\n",
       "      <td>73</td>\n",
       "      <td>47</td>\n",
       "    </tr>\n",
       "    <tr>\n",
       "      <th>2</th>\n",
       "      <td>70</td>\n",
       "      <td>68</td>\n",
       "      <td>69</td>\n",
       "      <td>76</td>\n",
       "      <td>86</td>\n",
       "      <td>48</td>\n",
       "    </tr>\n",
       "    <tr>\n",
       "      <th>3</th>\n",
       "      <td>63</td>\n",
       "      <td>45</td>\n",
       "      <td>47</td>\n",
       "      <td>54</td>\n",
       "      <td>84</td>\n",
       "      <td>35</td>\n",
       "    </tr>\n",
       "    <tr>\n",
       "      <th>4</th>\n",
       "      <td>78</td>\n",
       "      <td>56</td>\n",
       "      <td>66</td>\n",
       "      <td>71</td>\n",
       "      <td>83</td>\n",
       "      <td>47</td>\n",
       "    </tr>\n",
       "  </tbody>\n",
       "</table>\n",
       "</div>"
      ],
      "text/plain": [
       "   DISSATIS  PRIVILEGE  CHANCE  ADVANCE  CRITISM  PROMOTION\n",
       "0        51         30      39       61       92         45\n",
       "1        64         51      54       63       73         47\n",
       "2        70         68      69       76       86         48\n",
       "3        63         45      47       54       84         35\n",
       "4        78         56      66       71       83         47"
      ]
     },
     "execution_count": 21,
     "metadata": {},
     "output_type": "execute_result"
    }
   ],
   "source": [
    "df_raw_x.head()"
   ]
  },
  {
   "cell_type": "markdown",
   "metadata": {},
   "source": [
    "## STEP 2 : 선형관계 확인 : 산점도 및 상관계수"
   ]
  },
  {
   "cell_type": "code",
   "execution_count": 22,
   "metadata": {},
   "outputs": [
    {
     "data": {
      "text/plain": [
       "<seaborn.axisgrid.PairGrid at 0x7ff6e4522a90>"
      ]
     },
     "execution_count": 22,
     "metadata": {},
     "output_type": "execute_result"
    },
    {
     "data": {
      "image/png": "[encoded data removed]",
      "text/plain": [
       "<Figure size 1080x1080 with 42 Axes>"
      ]
     },
     "metadata": {
      "needs_background": "light"
     },
     "output_type": "display_data"
    }
   ],
   "source": [
    "sns.pairplot(df_raw_x)"
   ]
  },
  {
   "cell_type": "code",
   "execution_count": 23,
   "metadata": {},
   "outputs": [
    {
     "data": {
      "text/html": [
       "<div>\n",
       "<style scoped>\n",
       "    .dataframe tbody tr th:only-of-type {\n",
       "        vertical-align: middle;\n",
       "    }\n",
       "\n",
       "    .dataframe tbody tr th {\n",
       "        vertical-align: top;\n",
       "    }\n",
       "\n",
       "    .dataframe thead th {\n",
       "        text-align: right;\n",
       "    }\n",
       "</style>\n",
       "<table border=\"1\" class=\"dataframe\">\n",
       "  <thead>\n",
       "    <tr style=\"text-align: right;\">\n",
       "      <th></th>\n",
       "      <th>DISSATIS</th>\n",
       "      <th>PRIVILEGE</th>\n",
       "      <th>CHANCE</th>\n",
       "      <th>ADVANCE</th>\n",
       "      <th>CRITISM</th>\n",
       "      <th>PROMOTION</th>\n",
       "    </tr>\n",
       "  </thead>\n",
       "  <tbody>\n",
       "    <tr>\n",
       "      <th>DISSATIS</th>\n",
       "      <td>1.000</td>\n",
       "      <td>0.558</td>\n",
       "      <td>0.597</td>\n",
       "      <td>0.669</td>\n",
       "      <td>0.188</td>\n",
       "      <td>0.225</td>\n",
       "    </tr>\n",
       "    <tr>\n",
       "      <th>PRIVILEGE</th>\n",
       "      <td>0.558</td>\n",
       "      <td>1.000</td>\n",
       "      <td>0.493</td>\n",
       "      <td>0.445</td>\n",
       "      <td>0.147</td>\n",
       "      <td>0.343</td>\n",
       "    </tr>\n",
       "    <tr>\n",
       "      <th>CHANCE</th>\n",
       "      <td>0.597</td>\n",
       "      <td>0.493</td>\n",
       "      <td>1.000</td>\n",
       "      <td>0.640</td>\n",
       "      <td>0.116</td>\n",
       "      <td>0.532</td>\n",
       "    </tr>\n",
       "    <tr>\n",
       "      <th>ADVANCE</th>\n",
       "      <td>0.669</td>\n",
       "      <td>0.445</td>\n",
       "      <td>0.640</td>\n",
       "      <td>1.000</td>\n",
       "      <td>0.377</td>\n",
       "      <td>0.574</td>\n",
       "    </tr>\n",
       "    <tr>\n",
       "      <th>CRITISM</th>\n",
       "      <td>0.188</td>\n",
       "      <td>0.147</td>\n",
       "      <td>0.116</td>\n",
       "      <td>0.377</td>\n",
       "      <td>1.000</td>\n",
       "      <td>0.283</td>\n",
       "    </tr>\n",
       "    <tr>\n",
       "      <th>PROMOTION</th>\n",
       "      <td>0.225</td>\n",
       "      <td>0.343</td>\n",
       "      <td>0.532</td>\n",
       "      <td>0.574</td>\n",
       "      <td>0.283</td>\n",
       "      <td>1.000</td>\n",
       "    </tr>\n",
       "  </tbody>\n",
       "</table>\n",
       "</div>"
      ],
      "text/plain": [
       "           DISSATIS  PRIVILEGE  CHANCE  ADVANCE  CRITISM  PROMOTION\n",
       "DISSATIS      1.000      0.558   0.597    0.669    0.188      0.225\n",
       "PRIVILEGE     0.558      1.000   0.493    0.445    0.147      0.343\n",
       "CHANCE        0.597      0.493   1.000    0.640    0.116      0.532\n",
       "ADVANCE       0.669      0.445   0.640    1.000    0.377      0.574\n",
       "CRITISM       0.188      0.147   0.116    0.377    1.000      0.283\n",
       "PROMOTION     0.225      0.343   0.532    0.574    0.283      1.000"
      ]
     },
     "execution_count": 23,
     "metadata": {},
     "output_type": "execute_result"
    }
   ],
   "source": [
    "df_raw_x.corr().round(3)"
   ]
  },
  {
   "cell_type": "markdown",
   "metadata": {},
   "source": [
    "## STEP 3 : 데이터 확인 및 Scaling"
   ]
  },
  {
   "cell_type": "code",
   "execution_count": 24,
   "metadata": {},
   "outputs": [
    {
     "data": {
      "text/html": [
       "<div>\n",
       "<style scoped>\n",
       "    .dataframe tbody tr th:only-of-type {\n",
       "        vertical-align: middle;\n",
       "    }\n",
       "\n",
       "    .dataframe tbody tr th {\n",
       "        vertical-align: top;\n",
       "    }\n",
       "\n",
       "    .dataframe thead th {\n",
       "        text-align: right;\n",
       "    }\n",
       "</style>\n",
       "<table border=\"1\" class=\"dataframe\">\n",
       "  <thead>\n",
       "    <tr style=\"text-align: right;\">\n",
       "      <th></th>\n",
       "      <th>DISSATIS</th>\n",
       "      <th>PRIVILEGE</th>\n",
       "      <th>CHANCE</th>\n",
       "      <th>ADVANCE</th>\n",
       "      <th>CRITISM</th>\n",
       "      <th>PROMOTION</th>\n",
       "    </tr>\n",
       "  </thead>\n",
       "  <tbody>\n",
       "    <tr>\n",
       "      <th>count</th>\n",
       "      <td>30.000</td>\n",
       "      <td>30.000</td>\n",
       "      <td>30.000</td>\n",
       "      <td>30.000</td>\n",
       "      <td>30.000</td>\n",
       "      <td>30.000</td>\n",
       "    </tr>\n",
       "    <tr>\n",
       "      <th>mean</th>\n",
       "      <td>66.600</td>\n",
       "      <td>53.133</td>\n",
       "      <td>56.367</td>\n",
       "      <td>64.633</td>\n",
       "      <td>74.767</td>\n",
       "      <td>42.933</td>\n",
       "    </tr>\n",
       "    <tr>\n",
       "      <th>std</th>\n",
       "      <td>13.315</td>\n",
       "      <td>12.235</td>\n",
       "      <td>11.737</td>\n",
       "      <td>10.397</td>\n",
       "      <td>9.895</td>\n",
       "      <td>10.289</td>\n",
       "    </tr>\n",
       "    <tr>\n",
       "      <th>min</th>\n",
       "      <td>37.000</td>\n",
       "      <td>30.000</td>\n",
       "      <td>34.000</td>\n",
       "      <td>43.000</td>\n",
       "      <td>49.000</td>\n",
       "      <td>25.000</td>\n",
       "    </tr>\n",
       "    <tr>\n",
       "      <th>25%</th>\n",
       "      <td>58.500</td>\n",
       "      <td>45.000</td>\n",
       "      <td>47.000</td>\n",
       "      <td>58.250</td>\n",
       "      <td>69.250</td>\n",
       "      <td>35.000</td>\n",
       "    </tr>\n",
       "    <tr>\n",
       "      <th>50%</th>\n",
       "      <td>65.000</td>\n",
       "      <td>51.500</td>\n",
       "      <td>56.500</td>\n",
       "      <td>63.500</td>\n",
       "      <td>77.500</td>\n",
       "      <td>41.000</td>\n",
       "    </tr>\n",
       "    <tr>\n",
       "      <th>75%</th>\n",
       "      <td>77.000</td>\n",
       "      <td>62.500</td>\n",
       "      <td>66.750</td>\n",
       "      <td>71.000</td>\n",
       "      <td>80.000</td>\n",
       "      <td>47.750</td>\n",
       "    </tr>\n",
       "    <tr>\n",
       "      <th>max</th>\n",
       "      <td>90.000</td>\n",
       "      <td>83.000</td>\n",
       "      <td>75.000</td>\n",
       "      <td>88.000</td>\n",
       "      <td>92.000</td>\n",
       "      <td>72.000</td>\n",
       "    </tr>\n",
       "  </tbody>\n",
       "</table>\n",
       "</div>"
      ],
      "text/plain": [
       "       DISSATIS  PRIVILEGE  CHANCE  ADVANCE  CRITISM  PROMOTION\n",
       "count    30.000     30.000  30.000   30.000   30.000     30.000\n",
       "mean     66.600     53.133  56.367   64.633   74.767     42.933\n",
       "std      13.315     12.235  11.737   10.397    9.895     10.289\n",
       "min      37.000     30.000  34.000   43.000   49.000     25.000\n",
       "25%      58.500     45.000  47.000   58.250   69.250     35.000\n",
       "50%      65.000     51.500  56.500   63.500   77.500     41.000\n",
       "75%      77.000     62.500  66.750   71.000   80.000     47.750\n",
       "max      90.000     83.000  75.000   88.000   92.000     72.000"
      ]
     },
     "execution_count": 24,
     "metadata": {},
     "output_type": "execute_result"
    }
   ],
   "source": [
    "# 요약 통계량 -> Scale 변환 필요 확인\n",
    "df_raw_x.describe().round(3)"
   ]
  },
  {
   "cell_type": "code",
   "execution_count": 25,
   "metadata": {},
   "outputs": [
    {
     "name": "stdout",
     "output_type": "stream",
     "text": [
      "Scaled Data :\n",
      "[[-1.192 -1.923 -1.505 -0.355  1.771  0.204]\n",
      " [-0.199 -0.177 -0.205 -0.16  -0.182  0.402]\n",
      " [ 0.26   1.236  1.095  1.112  1.155  0.501]\n",
      " [-0.275 -0.676 -0.812 -1.04   0.949 -0.784]\n",
      " [ 0.871  0.238  0.835  0.623  0.846  0.402]]\n",
      "Shape :\n",
      "(30, 6)\n"
     ]
    }
   ],
   "source": [
    "# 변수 이름 저장\n",
    "x_cols = df_raw_x.columns\n",
    "\n",
    "# Scale 변환: nadrray 형식\n",
    "scaler = StandardScaler()\n",
    "nd_scaled = scaler.fit_transform(df_raw_x)\n",
    "\n",
    "# 변환된 데이터 및 형태 확인\n",
    "print(\"Scaled Data :\\n{}\".format(nd_scaled[:5].round(3)))\n",
    "print(\"Shape :\\n{}\".format(nd_scaled.shape))"
   ]
  },
  {
   "cell_type": "code",
   "execution_count": 26,
   "metadata": {},
   "outputs": [
    {
     "data": {
      "text/html": [
       "<div>\n",
       "<style scoped>\n",
       "    .dataframe tbody tr th:only-of-type {\n",
       "        vertical-align: middle;\n",
       "    }\n",
       "\n",
       "    .dataframe tbody tr th {\n",
       "        vertical-align: top;\n",
       "    }\n",
       "\n",
       "    .dataframe thead th {\n",
       "        text-align: right;\n",
       "    }\n",
       "</style>\n",
       "<table border=\"1\" class=\"dataframe\">\n",
       "  <thead>\n",
       "    <tr style=\"text-align: right;\">\n",
       "      <th></th>\n",
       "      <th>DISSATIS</th>\n",
       "      <th>PRIVILEGE</th>\n",
       "      <th>CHANCE</th>\n",
       "      <th>ADVANCE</th>\n",
       "      <th>CRITISM</th>\n",
       "      <th>PROMOTION</th>\n",
       "    </tr>\n",
       "  </thead>\n",
       "  <tbody>\n",
       "    <tr>\n",
       "      <th>count</th>\n",
       "      <td>30.000</td>\n",
       "      <td>30.000</td>\n",
       "      <td>30.000</td>\n",
       "      <td>30.000</td>\n",
       "      <td>30.000</td>\n",
       "      <td>30.000</td>\n",
       "    </tr>\n",
       "    <tr>\n",
       "      <th>mean</th>\n",
       "      <td>0.000</td>\n",
       "      <td>-0.000</td>\n",
       "      <td>-0.000</td>\n",
       "      <td>-0.000</td>\n",
       "      <td>0.000</td>\n",
       "      <td>0.000</td>\n",
       "    </tr>\n",
       "    <tr>\n",
       "      <th>std</th>\n",
       "      <td>1.017</td>\n",
       "      <td>1.017</td>\n",
       "      <td>1.017</td>\n",
       "      <td>1.017</td>\n",
       "      <td>1.017</td>\n",
       "      <td>1.017</td>\n",
       "    </tr>\n",
       "    <tr>\n",
       "      <th>min</th>\n",
       "      <td>-2.261</td>\n",
       "      <td>-1.923</td>\n",
       "      <td>-1.938</td>\n",
       "      <td>-2.116</td>\n",
       "      <td>-2.649</td>\n",
       "      <td>-1.773</td>\n",
       "    </tr>\n",
       "    <tr>\n",
       "      <th>25%</th>\n",
       "      <td>-0.619</td>\n",
       "      <td>-0.676</td>\n",
       "      <td>-0.812</td>\n",
       "      <td>-0.624</td>\n",
       "      <td>-0.567</td>\n",
       "      <td>-0.784</td>\n",
       "    </tr>\n",
       "    <tr>\n",
       "      <th>50%</th>\n",
       "      <td>-0.122</td>\n",
       "      <td>-0.136</td>\n",
       "      <td>0.012</td>\n",
       "      <td>-0.111</td>\n",
       "      <td>0.281</td>\n",
       "      <td>-0.191</td>\n",
       "    </tr>\n",
       "    <tr>\n",
       "      <th>75%</th>\n",
       "      <td>0.794</td>\n",
       "      <td>0.779</td>\n",
       "      <td>0.900</td>\n",
       "      <td>0.623</td>\n",
       "      <td>0.538</td>\n",
       "      <td>0.476</td>\n",
       "    </tr>\n",
       "    <tr>\n",
       "      <th>max</th>\n",
       "      <td>1.787</td>\n",
       "      <td>2.483</td>\n",
       "      <td>1.615</td>\n",
       "      <td>2.286</td>\n",
       "      <td>1.771</td>\n",
       "      <td>2.873</td>\n",
       "    </tr>\n",
       "  </tbody>\n",
       "</table>\n",
       "</div>"
      ],
      "text/plain": [
       "       DISSATIS  PRIVILEGE  CHANCE  ADVANCE  CRITISM  PROMOTION\n",
       "count    30.000     30.000  30.000   30.000   30.000     30.000\n",
       "mean      0.000     -0.000  -0.000   -0.000    0.000      0.000\n",
       "std       1.017      1.017   1.017    1.017    1.017      1.017\n",
       "min      -2.261     -1.923  -1.938   -2.116   -2.649     -1.773\n",
       "25%      -0.619     -0.676  -0.812   -0.624   -0.567     -0.784\n",
       "50%      -0.122     -0.136   0.012   -0.111    0.281     -0.191\n",
       "75%       0.794      0.779   0.900    0.623    0.538      0.476\n",
       "max       1.787      2.483   1.615    2.286    1.771      2.873"
      ]
     },
     "execution_count": 26,
     "metadata": {},
     "output_type": "execute_result"
    }
   ],
   "source": [
    "# DataFrame으로 저장\n",
    "df_scaled = pd.DataFrame(nd_scaled, columns=x_cols)\n",
    "df_scaled.head().round(3)\n",
    "\n",
    "# Scale 변환 데이터 요약 통계량\n",
    "df_scaled.describe().round(3)"
   ]
  },
  {
   "cell_type": "markdown",
   "metadata": {},
   "source": [
    "## STEP 4 : 주성분 분석"
   ]
  },
  {
   "cell_type": "code",
   "execution_count": 27,
   "metadata": {},
   "outputs": [
    {
     "name": "stdout",
     "output_type": "stream",
     "text": [
      "PCA Data :\n",
      "[[ 1.67606983 -2.73856419 -0.12843595 -0.50321261  0.24330658  0.22576117]\n",
      " [ 0.21834397 -0.12615302  0.43115839  0.08726221  0.19566103  0.1941439 ]\n",
      " [-2.10515127 -0.51500683 -0.27683087  0.49131136 -0.44691698 -0.63174369]\n",
      " [ 1.35994032 -0.86064574 -0.91799066  0.03173793 -0.40137177  0.44095403]\n",
      " [-1.5120347  -0.35277019 -0.32684445 -0.32877858 -0.32709718  0.21246099]]\n",
      "Shape :\n",
      "(30, 6)\n"
     ]
    }
   ],
   "source": [
    "#주성분 분석: 주성분1 ~ 주성분6 생성 및 저장\n",
    "pca = PCA(n_components=6)\n",
    "nd_pca = pca.fit_transform(df_scaled)\n",
    "\n",
    "#생성된 주성분 점수 확인\n",
    "print(\"PCA Data :\\n{}\".format(nd_pca[:5]))\n",
    "\n",
    "#생성된 주성분 점수 Row, Column 개수 확인\n",
    "print(\"Shape :\\n{}\".format(nd_pca.shape))"
   ]
  },
  {
   "cell_type": "markdown",
   "metadata": {},
   "source": [
    "## 주성분 분석 및 결과: 주성분 점수"
   ]
  },
  {
   "cell_type": "code",
   "execution_count": 28,
   "metadata": {},
   "outputs": [
    {
     "data": {
      "text/html": [
       "<div>\n",
       "<style scoped>\n",
       "    .dataframe tbody tr th:only-of-type {\n",
       "        vertical-align: middle;\n",
       "    }\n",
       "\n",
       "    .dataframe tbody tr th {\n",
       "        vertical-align: top;\n",
       "    }\n",
       "\n",
       "    .dataframe thead th {\n",
       "        text-align: right;\n",
       "    }\n",
       "</style>\n",
       "<table border=\"1\" class=\"dataframe\">\n",
       "  <thead>\n",
       "    <tr style=\"text-align: right;\">\n",
       "      <th></th>\n",
       "      <th>DISSATIS</th>\n",
       "      <th>PRIVILEGE</th>\n",
       "      <th>CHANCE</th>\n",
       "      <th>ADVANCE</th>\n",
       "      <th>CRITISM</th>\n",
       "      <th>PROMOTION</th>\n",
       "      <th>Prin1</th>\n",
       "      <th>Prin2</th>\n",
       "      <th>Prin3</th>\n",
       "      <th>Prin4</th>\n",
       "      <th>Prin5</th>\n",
       "      <th>Prin6</th>\n",
       "    </tr>\n",
       "  </thead>\n",
       "  <tbody>\n",
       "    <tr>\n",
       "      <th>0</th>\n",
       "      <td>-1.191662</td>\n",
       "      <td>-1.923006</td>\n",
       "      <td>-1.504945</td>\n",
       "      <td>-0.355426</td>\n",
       "      <td>1.771410</td>\n",
       "      <td>0.204301</td>\n",
       "      <td>1.676070</td>\n",
       "      <td>-2.738564</td>\n",
       "      <td>-0.128436</td>\n",
       "      <td>-0.503213</td>\n",
       "      <td>0.243307</td>\n",
       "      <td>0.225761</td>\n",
       "    </tr>\n",
       "    <tr>\n",
       "      <th>1</th>\n",
       "      <td>-0.198610</td>\n",
       "      <td>-0.177338</td>\n",
       "      <td>-0.205088</td>\n",
       "      <td>-0.159779</td>\n",
       "      <td>-0.181595</td>\n",
       "      <td>0.402012</td>\n",
       "      <td>0.218344</td>\n",
       "      <td>-0.126153</td>\n",
       "      <td>0.431158</td>\n",
       "      <td>0.087262</td>\n",
       "      <td>0.195661</td>\n",
       "      <td>0.194144</td>\n",
       "    </tr>\n",
       "    <tr>\n",
       "      <th>2</th>\n",
       "      <td>0.259721</td>\n",
       "      <td>1.235822</td>\n",
       "      <td>1.094768</td>\n",
       "      <td>1.111930</td>\n",
       "      <td>1.154672</td>\n",
       "      <td>0.500868</td>\n",
       "      <td>-2.105151</td>\n",
       "      <td>-0.515007</td>\n",
       "      <td>-0.276831</td>\n",
       "      <td>0.491311</td>\n",
       "      <td>-0.446917</td>\n",
       "      <td>-0.631744</td>\n",
       "    </tr>\n",
       "    <tr>\n",
       "      <th>3</th>\n",
       "      <td>-0.274999</td>\n",
       "      <td>-0.676100</td>\n",
       "      <td>-0.811688</td>\n",
       "      <td>-1.040192</td>\n",
       "      <td>0.949092</td>\n",
       "      <td>-0.784254</td>\n",
       "      <td>1.359940</td>\n",
       "      <td>-0.860646</td>\n",
       "      <td>-0.917991</td>\n",
       "      <td>0.031738</td>\n",
       "      <td>-0.401372</td>\n",
       "      <td>0.440954</td>\n",
       "    </tr>\n",
       "    <tr>\n",
       "      <th>4</th>\n",
       "      <td>0.870830</td>\n",
       "      <td>0.238298</td>\n",
       "      <td>0.834797</td>\n",
       "      <td>0.622811</td>\n",
       "      <td>0.846302</td>\n",
       "      <td>0.402012</td>\n",
       "      <td>-1.512035</td>\n",
       "      <td>-0.352770</td>\n",
       "      <td>-0.326844</td>\n",
       "      <td>-0.328779</td>\n",
       "      <td>-0.327097</td>\n",
       "      <td>0.212461</td>\n",
       "    </tr>\n",
       "  </tbody>\n",
       "</table>\n",
       "</div>"
      ],
      "text/plain": [
       "   DISSATIS  PRIVILEGE    CHANCE   ADVANCE   CRITISM  PROMOTION     Prin1  \\\n",
       "0 -1.191662  -1.923006 -1.504945 -0.355426  1.771410   0.204301  1.676070   \n",
       "1 -0.198610  -0.177338 -0.205088 -0.159779 -0.181595   0.402012  0.218344   \n",
       "2  0.259721   1.235822  1.094768  1.111930  1.154672   0.500868 -2.105151   \n",
       "3 -0.274999  -0.676100 -0.811688 -1.040192  0.949092  -0.784254  1.359940   \n",
       "4  0.870830   0.238298  0.834797  0.622811  0.846302   0.402012 -1.512035   \n",
       "\n",
       "      Prin2     Prin3     Prin4     Prin5     Prin6  \n",
       "0 -2.738564 -0.128436 -0.503213  0.243307  0.225761  \n",
       "1 -0.126153  0.431158  0.087262  0.195661  0.194144  \n",
       "2 -0.515007 -0.276831  0.491311 -0.446917 -0.631744  \n",
       "3 -0.860646 -0.917991  0.031738 -0.401372  0.440954  \n",
       "4 -0.352770 -0.326844 -0.328779 -0.327097  0.212461  "
      ]
     },
     "execution_count": 28,
     "metadata": {},
     "output_type": "execute_result"
    }
   ],
   "source": [
    "# 주성분 점수 저장(Prin1 ~ Prin6, DataFrame형식) 및 확인\n",
    "df_pca = pd.DataFrame(nd_pca, columns = [\"Prin1\", \"Prin2\", \"Prin3\", \"Prin4\", \"Prin5\", \"Prin6\"])\n",
    "\n",
    "# 주성분 분석용 데이터와 주성분 점수 결합\n",
    "df_scaled_pca = df_scaled.join(df_pca)\n",
    "df_scaled_pca.head()"
   ]
  },
  {
   "cell_type": "markdown",
   "metadata": {},
   "source": [
    "## 주성분 분석 및 결과: 고유값(Eigenvalue) 확인 및 주성분 개수 결정"
   ]
  },
  {
   "cell_type": "code",
   "execution_count": 29,
   "metadata": {},
   "outputs": [
    {
     "data": {
      "text/html": [
       "<div>\n",
       "<style scoped>\n",
       "    .dataframe tbody tr th:only-of-type {\n",
       "        vertical-align: middle;\n",
       "    }\n",
       "\n",
       "    .dataframe tbody tr th {\n",
       "        vertical-align: top;\n",
       "    }\n",
       "\n",
       "    .dataframe thead th {\n",
       "        text-align: right;\n",
       "    }\n",
       "</style>\n",
       "<table border=\"1\" class=\"dataframe\">\n",
       "  <thead>\n",
       "    <tr style=\"text-align: right;\">\n",
       "      <th></th>\n",
       "      <th>PrinNo</th>\n",
       "      <th>EigenValues</th>\n",
       "      <th>EigenValueRatio</th>\n",
       "      <th>CumEigenValueRatio</th>\n",
       "    </tr>\n",
       "  </thead>\n",
       "  <tbody>\n",
       "    <tr>\n",
       "      <th>0</th>\n",
       "      <td>1</td>\n",
       "      <td>3.279</td>\n",
       "      <td>0.528</td>\n",
       "      <td>0.528</td>\n",
       "    </tr>\n",
       "    <tr>\n",
       "      <th>1</th>\n",
       "      <td>2</td>\n",
       "      <td>1.041</td>\n",
       "      <td>0.168</td>\n",
       "      <td>0.696</td>\n",
       "    </tr>\n",
       "    <tr>\n",
       "      <th>2</th>\n",
       "      <td>3</td>\n",
       "      <td>0.789</td>\n",
       "      <td>0.127</td>\n",
       "      <td>0.823</td>\n",
       "    </tr>\n",
       "    <tr>\n",
       "      <th>3</th>\n",
       "      <td>4</td>\n",
       "      <td>0.572</td>\n",
       "      <td>0.092</td>\n",
       "      <td>0.915</td>\n",
       "    </tr>\n",
       "    <tr>\n",
       "      <th>4</th>\n",
       "      <td>5</td>\n",
       "      <td>0.328</td>\n",
       "      <td>0.053</td>\n",
       "      <td>0.968</td>\n",
       "    </tr>\n",
       "    <tr>\n",
       "      <th>5</th>\n",
       "      <td>6</td>\n",
       "      <td>0.198</td>\n",
       "      <td>0.032</td>\n",
       "      <td>1.000</td>\n",
       "    </tr>\n",
       "  </tbody>\n",
       "</table>\n",
       "</div>"
      ],
      "text/plain": [
       "   PrinNo  EigenValues  EigenValueRatio  CumEigenValueRatio\n",
       "0       1        3.279            0.528               0.528\n",
       "1       2        1.041            0.168               0.696\n",
       "2       3        0.789            0.127               0.823\n",
       "3       4        0.572            0.092               0.915\n",
       "4       5        0.328            0.053               0.968\n",
       "5       6        0.198            0.032               1.000"
      ]
     },
     "execution_count": 29,
     "metadata": {},
     "output_type": "execute_result"
    }
   ],
   "source": [
    "# 주성분 분석 통계량 저장: 주성분 번호, Eigenvalue, Eigenvalue ratio\n",
    "df_pca_stat = pd.DataFrame()\n",
    "df_pca_stat[\"PrinNo\"] = [i for i in range(1,7)]\n",
    "df_pca_stat[\"EigenValues\"] = pca.explained_variance_\n",
    "df_pca_stat[\"EigenValueRatio\"] = pca.explained_variance_ratio_\n",
    "df_pca_stat[\"CumEigenValueRatio\"] = np.cumsum(pca.explained_variance_ratio_)\n",
    "df_pca_stat.round(3)"
   ]
  },
  {
   "cell_type": "markdown",
   "metadata": {},
   "source": [
    "### => 적정 주성분 선택\n",
    "###     : 상관계수 기준(고유값>1) 2개\n",
    "###     : 공분산 기준(고유값 누적비율>0.8) 3개"
   ]
  },
  {
   "cell_type": "markdown",
   "metadata": {},
   "source": [
    "## 주성분 분석 및 결과 : Scree Plot 확인 및 주성분 개수 결정"
   ]
  },
  {
   "cell_type": "code",
   "execution_count": 30,
   "metadata": {},
   "outputs": [
    {
     "data": {
      "text/plain": [
       "<matplotlib.legend.Legend at 0x7ff6dee08e90>"
      ]
     },
     "execution_count": 30,
     "metadata": {},
     "output_type": "execute_result"
    },
    {
     "name": "stderr",
     "output_type": "stream",
     "text": [
      "/home/piai/anaconda3/lib/python3.7/site-packages/matplotlib/backends/backend_agg.py:211: RuntimeWarning: Glyph 51452 missing from current font.\n",
      "  font.set_text(s, 0.0, flags=flags)\n",
      "/home/piai/anaconda3/lib/python3.7/site-packages/matplotlib/backends/backend_agg.py:211: RuntimeWarning: Glyph 49457 missing from current font.\n",
      "  font.set_text(s, 0.0, flags=flags)\n",
      "/home/piai/anaconda3/lib/python3.7/site-packages/matplotlib/backends/backend_agg.py:211: RuntimeWarning: Glyph 48516 missing from current font.\n",
      "  font.set_text(s, 0.0, flags=flags)\n",
      "/home/piai/anaconda3/lib/python3.7/site-packages/matplotlib/backends/backend_agg.py:211: RuntimeWarning: Glyph 48264 missing from current font.\n",
      "  font.set_text(s, 0.0, flags=flags)\n",
      "/home/piai/anaconda3/lib/python3.7/site-packages/matplotlib/backends/backend_agg.py:211: RuntimeWarning: Glyph 54840 missing from current font.\n",
      "  font.set_text(s, 0.0, flags=flags)\n",
      "/home/piai/anaconda3/lib/python3.7/site-packages/matplotlib/backends/backend_agg.py:180: RuntimeWarning: Glyph 51452 missing from current font.\n",
      "  font.set_text(s, 0, flags=flags)\n",
      "/home/piai/anaconda3/lib/python3.7/site-packages/matplotlib/backends/backend_agg.py:180: RuntimeWarning: Glyph 49457 missing from current font.\n",
      "  font.set_text(s, 0, flags=flags)\n",
      "/home/piai/anaconda3/lib/python3.7/site-packages/matplotlib/backends/backend_agg.py:180: RuntimeWarning: Glyph 48516 missing from current font.\n",
      "  font.set_text(s, 0, flags=flags)\n",
      "/home/piai/anaconda3/lib/python3.7/site-packages/matplotlib/backends/backend_agg.py:180: RuntimeWarning: Glyph 48264 missing from current font.\n",
      "  font.set_text(s, 0, flags=flags)\n",
      "/home/piai/anaconda3/lib/python3.7/site-packages/matplotlib/backends/backend_agg.py:180: RuntimeWarning: Glyph 54840 missing from current font.\n",
      "  font.set_text(s, 0, flags=flags)\n",
      "/home/piai/anaconda3/lib/python3.7/site-packages/matplotlib/backends/backend_agg.py:211: RuntimeWarning: Glyph 44256 missing from current font.\n",
      "  font.set_text(s, 0.0, flags=flags)\n",
      "/home/piai/anaconda3/lib/python3.7/site-packages/matplotlib/backends/backend_agg.py:211: RuntimeWarning: Glyph 50976 missing from current font.\n",
      "  font.set_text(s, 0.0, flags=flags)\n",
      "/home/piai/anaconda3/lib/python3.7/site-packages/matplotlib/backends/backend_agg.py:211: RuntimeWarning: Glyph 44050 missing from current font.\n",
      "  font.set_text(s, 0.0, flags=flags)\n",
      "/home/piai/anaconda3/lib/python3.7/site-packages/matplotlib/backends/backend_agg.py:180: RuntimeWarning: Glyph 44256 missing from current font.\n",
      "  font.set_text(s, 0, flags=flags)\n",
      "/home/piai/anaconda3/lib/python3.7/site-packages/matplotlib/backends/backend_agg.py:180: RuntimeWarning: Glyph 50976 missing from current font.\n",
      "  font.set_text(s, 0, flags=flags)\n",
      "/home/piai/anaconda3/lib/python3.7/site-packages/matplotlib/backends/backend_agg.py:180: RuntimeWarning: Glyph 44050 missing from current font.\n",
      "  font.set_text(s, 0, flags=flags)\n"
     ]
    },
    {
     "data": {
      "image/png": "[encoded data removed]",
      "text/plain": [
       "<Figure size 432x288 with 1 Axes>"
      ]
     },
     "metadata": {
      "needs_background": "light"
     },
     "output_type": "display_data"
    }
   ],
   "source": [
    "# Scree Plot\n",
    "plt.plot(df_pca_stat[\"PrinNo\"], df_pca_stat[\"EigenValues\"], label = \"고유값\")\n",
    "\n",
    "# 그래프 label, legend 설정\n",
    "plt.ylabel(\"고유값(Eigenvalue)\")\n",
    "plt.xlabel(\"주성분 번호\")\n",
    "plt.legend(loc = \"best\") # 가장 좋은 위치 알아서 판단해서 범례표시."
   ]
  },
  {
   "cell_type": "code",
   "execution_count": 31,
   "metadata": {},
   "outputs": [
    {
     "data": {
      "text/plain": [
       "<matplotlib.legend.Legend at 0x7ff6de576110>"
      ]
     },
     "execution_count": 31,
     "metadata": {},
     "output_type": "execute_result"
    },
    {
     "name": "stderr",
     "output_type": "stream",
     "text": [
      "/home/piai/anaconda3/lib/python3.7/site-packages/matplotlib/backends/backend_agg.py:211: RuntimeWarning: Glyph 51452 missing from current font.\n",
      "  font.set_text(s, 0.0, flags=flags)\n",
      "/home/piai/anaconda3/lib/python3.7/site-packages/matplotlib/backends/backend_agg.py:211: RuntimeWarning: Glyph 49457 missing from current font.\n",
      "  font.set_text(s, 0.0, flags=flags)\n",
      "/home/piai/anaconda3/lib/python3.7/site-packages/matplotlib/backends/backend_agg.py:211: RuntimeWarning: Glyph 48516 missing from current font.\n",
      "  font.set_text(s, 0.0, flags=flags)\n",
      "/home/piai/anaconda3/lib/python3.7/site-packages/matplotlib/backends/backend_agg.py:211: RuntimeWarning: Glyph 48264 missing from current font.\n",
      "  font.set_text(s, 0.0, flags=flags)\n",
      "/home/piai/anaconda3/lib/python3.7/site-packages/matplotlib/backends/backend_agg.py:211: RuntimeWarning: Glyph 54840 missing from current font.\n",
      "  font.set_text(s, 0.0, flags=flags)\n",
      "/home/piai/anaconda3/lib/python3.7/site-packages/matplotlib/backends/backend_agg.py:180: RuntimeWarning: Glyph 51452 missing from current font.\n",
      "  font.set_text(s, 0, flags=flags)\n",
      "/home/piai/anaconda3/lib/python3.7/site-packages/matplotlib/backends/backend_agg.py:180: RuntimeWarning: Glyph 49457 missing from current font.\n",
      "  font.set_text(s, 0, flags=flags)\n",
      "/home/piai/anaconda3/lib/python3.7/site-packages/matplotlib/backends/backend_agg.py:180: RuntimeWarning: Glyph 48516 missing from current font.\n",
      "  font.set_text(s, 0, flags=flags)\n",
      "/home/piai/anaconda3/lib/python3.7/site-packages/matplotlib/backends/backend_agg.py:180: RuntimeWarning: Glyph 48264 missing from current font.\n",
      "  font.set_text(s, 0, flags=flags)\n",
      "/home/piai/anaconda3/lib/python3.7/site-packages/matplotlib/backends/backend_agg.py:180: RuntimeWarning: Glyph 54840 missing from current font.\n",
      "  font.set_text(s, 0, flags=flags)\n",
      "/home/piai/anaconda3/lib/python3.7/site-packages/matplotlib/backends/backend_agg.py:211: RuntimeWarning: Glyph 44256 missing from current font.\n",
      "  font.set_text(s, 0.0, flags=flags)\n",
      "/home/piai/anaconda3/lib/python3.7/site-packages/matplotlib/backends/backend_agg.py:211: RuntimeWarning: Glyph 50976 missing from current font.\n",
      "  font.set_text(s, 0.0, flags=flags)\n",
      "/home/piai/anaconda3/lib/python3.7/site-packages/matplotlib/backends/backend_agg.py:211: RuntimeWarning: Glyph 44050 missing from current font.\n",
      "  font.set_text(s, 0.0, flags=flags)\n",
      "/home/piai/anaconda3/lib/python3.7/site-packages/matplotlib/backends/backend_agg.py:211: RuntimeWarning: Glyph 48708 missing from current font.\n",
      "  font.set_text(s, 0.0, flags=flags)\n",
      "/home/piai/anaconda3/lib/python3.7/site-packages/matplotlib/backends/backend_agg.py:211: RuntimeWarning: Glyph 50984 missing from current font.\n",
      "  font.set_text(s, 0.0, flags=flags)\n",
      "/home/piai/anaconda3/lib/python3.7/site-packages/matplotlib/backends/backend_agg.py:180: RuntimeWarning: Glyph 44256 missing from current font.\n",
      "  font.set_text(s, 0, flags=flags)\n",
      "/home/piai/anaconda3/lib/python3.7/site-packages/matplotlib/backends/backend_agg.py:180: RuntimeWarning: Glyph 50976 missing from current font.\n",
      "  font.set_text(s, 0, flags=flags)\n",
      "/home/piai/anaconda3/lib/python3.7/site-packages/matplotlib/backends/backend_agg.py:180: RuntimeWarning: Glyph 44050 missing from current font.\n",
      "  font.set_text(s, 0, flags=flags)\n",
      "/home/piai/anaconda3/lib/python3.7/site-packages/matplotlib/backends/backend_agg.py:180: RuntimeWarning: Glyph 48708 missing from current font.\n",
      "  font.set_text(s, 0, flags=flags)\n",
      "/home/piai/anaconda3/lib/python3.7/site-packages/matplotlib/backends/backend_agg.py:180: RuntimeWarning: Glyph 50984 missing from current font.\n",
      "  font.set_text(s, 0, flags=flags)\n",
      "/home/piai/anaconda3/lib/python3.7/site-packages/matplotlib/backends/backend_agg.py:211: RuntimeWarning: Glyph 45572 missing from current font.\n",
      "  font.set_text(s, 0.0, flags=flags)\n",
      "/home/piai/anaconda3/lib/python3.7/site-packages/matplotlib/backends/backend_agg.py:211: RuntimeWarning: Glyph 51201 missing from current font.\n",
      "  font.set_text(s, 0.0, flags=flags)\n",
      "/home/piai/anaconda3/lib/python3.7/site-packages/matplotlib/backends/backend_agg.py:180: RuntimeWarning: Glyph 45572 missing from current font.\n",
      "  font.set_text(s, 0, flags=flags)\n",
      "/home/piai/anaconda3/lib/python3.7/site-packages/matplotlib/backends/backend_agg.py:180: RuntimeWarning: Glyph 51201 missing from current font.\n",
      "  font.set_text(s, 0, flags=flags)\n"
     ]
    },
    {
     "data": {
      "image/png": "[encoded data removed]",
      "text/plain": [
       "<Figure size 432x288 with 1 Axes>"
      ]
     },
     "metadata": {
      "needs_background": "light"
     },
     "output_type": "display_data"
    }
   ],
   "source": [
    "#고유값 비율 그래프 생성\n",
    "plt.plot(df_pca_stat[\"PrinNo\"], df_pca_stat[\"EigenValueRatio\"], label = \"고유값\")\n",
    "\n",
    "#누적된 고유값 비율 그래프 생성\n",
    "plt.plot(df_pca_stat[\"PrinNo\"], df_pca_stat[\"CumEigenValueRatio\"], label = \"누적 고유값\")\n",
    "\n",
    "plt.ylabel(\"고유값 비율\")\n",
    "plt.xlabel(\"주성분 번호\")\n",
    "plt.legend(loc = \"best\") # 가장 좋은 위치 알아서 판단해서 범례표시."
   ]
  },
  {
   "cell_type": "markdown",
   "metadata": {},
   "source": [
    "## 주성분 분석 및 결과: 고유 벡터(Eigenvector) 확인 및 해석"
   ]
  },
  {
   "cell_type": "code",
   "execution_count": 17,
   "metadata": {},
   "outputs": [
    {
     "data": {
      "text/html": [
       "<div>\n",
       "<style scoped>\n",
       "    .dataframe tbody tr th:only-of-type {\n",
       "        vertical-align: middle;\n",
       "    }\n",
       "\n",
       "    .dataframe tbody tr th {\n",
       "        vertical-align: top;\n",
       "    }\n",
       "\n",
       "    .dataframe thead th {\n",
       "        text-align: right;\n",
       "    }\n",
       "</style>\n",
       "<table border=\"1\" class=\"dataframe\">\n",
       "  <thead>\n",
       "    <tr style=\"text-align: right;\">\n",
       "      <th></th>\n",
       "      <th>Feature</th>\n",
       "      <th>Prin1</th>\n",
       "      <th>Prin2</th>\n",
       "      <th>Prin3</th>\n",
       "      <th>Prin4</th>\n",
       "      <th>Prin5</th>\n",
       "      <th>Prin6</th>\n",
       "    </tr>\n",
       "  </thead>\n",
       "  <tbody>\n",
       "    <tr>\n",
       "      <th>0</th>\n",
       "      <td>AGE</td>\n",
       "      <td>-0.010</td>\n",
       "      <td>-0.751</td>\n",
       "      <td>0.420</td>\n",
       "      <td>-0.079</td>\n",
       "      <td>-0.040</td>\n",
       "      <td>0.294</td>\n",
       "    </tr>\n",
       "    <tr>\n",
       "      <th>1</th>\n",
       "      <td>WEIGHT</td>\n",
       "      <td>-0.345</td>\n",
       "      <td>0.018</td>\n",
       "      <td>-0.039</td>\n",
       "      <td>-0.087</td>\n",
       "      <td>0.142</td>\n",
       "      <td>-0.031</td>\n",
       "    </tr>\n",
       "    <tr>\n",
       "      <th>2</th>\n",
       "      <td>HEIGHT</td>\n",
       "      <td>-0.101</td>\n",
       "      <td>0.469</td>\n",
       "      <td>0.678</td>\n",
       "      <td>-0.082</td>\n",
       "      <td>0.485</td>\n",
       "      <td>0.115</td>\n",
       "    </tr>\n",
       "    <tr>\n",
       "      <th>3</th>\n",
       "      <td>NECK</td>\n",
       "      <td>-0.306</td>\n",
       "      <td>-0.090</td>\n",
       "      <td>0.121</td>\n",
       "      <td>0.206</td>\n",
       "      <td>0.055</td>\n",
       "      <td>-0.561</td>\n",
       "    </tr>\n",
       "    <tr>\n",
       "      <th>4</th>\n",
       "      <td>CHEST</td>\n",
       "      <td>-0.316</td>\n",
       "      <td>-0.209</td>\n",
       "      <td>-0.061</td>\n",
       "      <td>0.009</td>\n",
       "      <td>0.152</td>\n",
       "      <td>-0.070</td>\n",
       "    </tr>\n",
       "    <tr>\n",
       "      <th>5</th>\n",
       "      <td>ABDOMEN</td>\n",
       "      <td>-0.312</td>\n",
       "      <td>-0.265</td>\n",
       "      <td>-0.122</td>\n",
       "      <td>-0.120</td>\n",
       "      <td>0.229</td>\n",
       "      <td>0.033</td>\n",
       "    </tr>\n",
       "    <tr>\n",
       "      <th>6</th>\n",
       "      <td>HIP</td>\n",
       "      <td>-0.326</td>\n",
       "      <td>-0.003</td>\n",
       "      <td>-0.221</td>\n",
       "      <td>-0.178</td>\n",
       "      <td>0.163</td>\n",
       "      <td>0.045</td>\n",
       "    </tr>\n",
       "    <tr>\n",
       "      <th>7</th>\n",
       "      <td>THIGH</td>\n",
       "      <td>-0.310</td>\n",
       "      <td>0.123</td>\n",
       "      <td>-0.322</td>\n",
       "      <td>-0.077</td>\n",
       "      <td>0.096</td>\n",
       "      <td>0.062</td>\n",
       "    </tr>\n",
       "    <tr>\n",
       "      <th>8</th>\n",
       "      <td>KNEE</td>\n",
       "      <td>-0.308</td>\n",
       "      <td>0.050</td>\n",
       "      <td>0.001</td>\n",
       "      <td>-0.247</td>\n",
       "      <td>0.005</td>\n",
       "      <td>0.497</td>\n",
       "    </tr>\n",
       "    <tr>\n",
       "      <th>9</th>\n",
       "      <td>ANKLE</td>\n",
       "      <td>-0.231</td>\n",
       "      <td>0.224</td>\n",
       "      <td>0.128</td>\n",
       "      <td>-0.500</td>\n",
       "      <td>-0.679</td>\n",
       "      <td>-0.032</td>\n",
       "    </tr>\n",
       "    <tr>\n",
       "      <th>10</th>\n",
       "      <td>BICEPS</td>\n",
       "      <td>-0.299</td>\n",
       "      <td>0.049</td>\n",
       "      <td>-0.076</td>\n",
       "      <td>0.322</td>\n",
       "      <td>-0.035</td>\n",
       "      <td>-0.045</td>\n",
       "    </tr>\n",
       "    <tr>\n",
       "      <th>11</th>\n",
       "      <td>FOREARM</td>\n",
       "      <td>-0.250</td>\n",
       "      <td>0.134</td>\n",
       "      <td>0.071</td>\n",
       "      <td>0.683</td>\n",
       "      <td>-0.310</td>\n",
       "      <td>0.446</td>\n",
       "    </tr>\n",
       "    <tr>\n",
       "      <th>12</th>\n",
       "      <td>WRIST</td>\n",
       "      <td>-0.279</td>\n",
       "      <td>-0.081</td>\n",
       "      <td>0.388</td>\n",
       "      <td>0.059</td>\n",
       "      <td>-0.265</td>\n",
       "      <td>-0.352</td>\n",
       "    </tr>\n",
       "  </tbody>\n",
       "</table>\n",
       "</div>"
      ],
      "text/plain": [
       "    Feature  Prin1  Prin2  Prin3  Prin4  Prin5  Prin6\n",
       "0       AGE -0.010 -0.751  0.420 -0.079 -0.040  0.294\n",
       "1    WEIGHT -0.345  0.018 -0.039 -0.087  0.142 -0.031\n",
       "2    HEIGHT -0.101  0.469  0.678 -0.082  0.485  0.115\n",
       "3      NECK -0.306 -0.090  0.121  0.206  0.055 -0.561\n",
       "4     CHEST -0.316 -0.209 -0.061  0.009  0.152 -0.070\n",
       "5   ABDOMEN -0.312 -0.265 -0.122 -0.120  0.229  0.033\n",
       "6       HIP -0.326 -0.003 -0.221 -0.178  0.163  0.045\n",
       "7     THIGH -0.310  0.123 -0.322 -0.077  0.096  0.062\n",
       "8      KNEE -0.308  0.050  0.001 -0.247  0.005  0.497\n",
       "9     ANKLE -0.231  0.224  0.128 -0.500 -0.679 -0.032\n",
       "10   BICEPS -0.299  0.049 -0.076  0.322 -0.035 -0.045\n",
       "11  FOREARM -0.250  0.134  0.071  0.683 -0.310  0.446\n",
       "12    WRIST -0.279 -0.081  0.388  0.059 -0.265 -0.352"
      ]
     },
     "execution_count": 17,
     "metadata": {},
     "output_type": "execute_result"
    }
   ],
   "source": [
    "# 주성분 분석 데이터의 변수 이름\n",
    "x_cols = pd.DataFrame({\"Feature\":df_raw_x.columns})\n",
    "\n",
    "#주성분 Prin1~6까지의 고유벡터 저장\n",
    "#전치결과 pd.DataFrame(pca.components_.columns=[\"Prin1\", ~ ,\"Prin6\"],axis=1)\n",
    "#파이선 PCA 분석 시 SVD 연산 방식의 차이 반영(전치, 부호 변경)\n",
    "df_eigenvector = pd.concat([x_cols, pd.DataFrame(pca.components_.T*-1,\\\n",
    "                                                columns = [\"Prin1\",\"Prin2\",\"Prin3\",\"Prin4\",\"Prin5\",\"Prin6\"])], axis=1)\n",
    "\n",
    "df_eigenvector.round(3)"
   ]
  },
  {
   "cell_type": "markdown",
   "metadata": {},
   "source": [
    "### => 고유값 확인 및 주성분 해석\n",
    "###     : 1주성분은 배움 기회와 승진 간의 양의 연관성\n",
    "###     : 2주성분은 불만처리와 특권 허용 간의 음의 연관성 확인\n",
    "### => 분석가에 따라 다른 그룹 생성 및 해석 가능"
   ]
  },
  {
   "cell_type": "markdown",
   "metadata": {},
   "source": [
    "## 상관분석"
   ]
  },
  {
   "cell_type": "code",
   "execution_count": 23,
   "metadata": {},
   "outputs": [
    {
     "data": {
      "text/plain": [
       "<seaborn.axisgrid.PairGrid at 0x7f72e8425bd0>"
      ]
     },
     "execution_count": 23,
     "metadata": {},
     "output_type": "execute_result"
    },
    {
     "data": {
      "image/png": "[encoded data removed]",
      "text/plain": [
       "<Figure size 1080x1080 with 42 Axes>"
      ]
     },
     "metadata": {
      "needs_background": "light"
     },
     "output_type": "display_data"
    }
   ],
   "source": [
    "sns.pairplot(df_pca)"
   ]
  },
  {
   "cell_type": "code",
   "execution_count": 24,
   "metadata": {},
   "outputs": [
    {
     "data": {
      "text/html": [
       "<div>\n",
       "<style scoped>\n",
       "    .dataframe tbody tr th:only-of-type {\n",
       "        vertical-align: middle;\n",
       "    }\n",
       "\n",
       "    .dataframe tbody tr th {\n",
       "        vertical-align: top;\n",
       "    }\n",
       "\n",
       "    .dataframe thead th {\n",
       "        text-align: right;\n",
       "    }\n",
       "</style>\n",
       "<table border=\"1\" class=\"dataframe\">\n",
       "  <thead>\n",
       "    <tr style=\"text-align: right;\">\n",
       "      <th></th>\n",
       "      <th>Prin1</th>\n",
       "      <th>Prin2</th>\n",
       "      <th>Prin3</th>\n",
       "      <th>Prin4</th>\n",
       "      <th>Prin5</th>\n",
       "      <th>Prin6</th>\n",
       "    </tr>\n",
       "  </thead>\n",
       "  <tbody>\n",
       "    <tr>\n",
       "      <th>Prin1</th>\n",
       "      <td>1.0</td>\n",
       "      <td>0.0</td>\n",
       "      <td>-0.0</td>\n",
       "      <td>-0.0</td>\n",
       "      <td>-0.0</td>\n",
       "      <td>0.0</td>\n",
       "    </tr>\n",
       "    <tr>\n",
       "      <th>Prin2</th>\n",
       "      <td>0.0</td>\n",
       "      <td>1.0</td>\n",
       "      <td>0.0</td>\n",
       "      <td>-0.0</td>\n",
       "      <td>-0.0</td>\n",
       "      <td>0.0</td>\n",
       "    </tr>\n",
       "    <tr>\n",
       "      <th>Prin3</th>\n",
       "      <td>-0.0</td>\n",
       "      <td>0.0</td>\n",
       "      <td>1.0</td>\n",
       "      <td>0.0</td>\n",
       "      <td>0.0</td>\n",
       "      <td>-0.0</td>\n",
       "    </tr>\n",
       "    <tr>\n",
       "      <th>Prin4</th>\n",
       "      <td>-0.0</td>\n",
       "      <td>-0.0</td>\n",
       "      <td>0.0</td>\n",
       "      <td>1.0</td>\n",
       "      <td>-0.0</td>\n",
       "      <td>-0.0</td>\n",
       "    </tr>\n",
       "    <tr>\n",
       "      <th>Prin5</th>\n",
       "      <td>-0.0</td>\n",
       "      <td>-0.0</td>\n",
       "      <td>0.0</td>\n",
       "      <td>-0.0</td>\n",
       "      <td>1.0</td>\n",
       "      <td>-0.0</td>\n",
       "    </tr>\n",
       "    <tr>\n",
       "      <th>Prin6</th>\n",
       "      <td>0.0</td>\n",
       "      <td>0.0</td>\n",
       "      <td>-0.0</td>\n",
       "      <td>-0.0</td>\n",
       "      <td>-0.0</td>\n",
       "      <td>1.0</td>\n",
       "    </tr>\n",
       "  </tbody>\n",
       "</table>\n",
       "</div>"
      ],
      "text/plain": [
       "       Prin1  Prin2  Prin3  Prin4  Prin5  Prin6\n",
       "Prin1    1.0    0.0   -0.0   -0.0   -0.0    0.0\n",
       "Prin2    0.0    1.0    0.0   -0.0   -0.0    0.0\n",
       "Prin3   -0.0    0.0    1.0    0.0    0.0   -0.0\n",
       "Prin4   -0.0   -0.0    0.0    1.0   -0.0   -0.0\n",
       "Prin5   -0.0   -0.0    0.0   -0.0    1.0   -0.0\n",
       "Prin6    0.0    0.0   -0.0   -0.0   -0.0    1.0"
      ]
     },
     "execution_count": 24,
     "metadata": {},
     "output_type": "execute_result"
    }
   ],
   "source": [
    "df_pca.corr().round(3)"
   ]
  },
  {
   "cell_type": "markdown",
   "metadata": {},
   "source": [
    "#### 주성분 서로 독립적. 상관계수 = 0"
   ]
  },
  {
   "cell_type": "markdown",
   "metadata": {},
   "source": [
    "## 회귀분석"
   ]
  },
  {
   "cell_type": "markdown",
   "metadata": {},
   "source": [
    "### 1) 다중선형 회귀분석 : 원천 데이터 활용"
   ]
  },
  {
   "cell_type": "code",
   "execution_count": 25,
   "metadata": {},
   "outputs": [
    {
     "name": "stdout",
     "output_type": "stream",
     "text": [
      "                            OLS Regression Results                            \n",
      "==============================================================================\n",
      "Dep. Variable:                   EVAL   R-squared:                       0.733\n",
      "Model:                            OLS   Adj. R-squared:                  0.663\n",
      "Method:                 Least Squares   F-statistic:                     10.50\n",
      "Date:                Wed, 08 Jul 2020   Prob (F-statistic):           1.24e-05\n",
      "Time:                        15:45:57   Log-Likelihood:                -97.250\n",
      "No. Observations:                  30   AIC:                             208.5\n",
      "Df Residuals:                      23   BIC:                             218.3\n",
      "Df Model:                           6                                         \n",
      "Covariance Type:            nonrobust                                         \n",
      "==============================================================================\n",
      "                 coef    std err          t      P>|t|      [0.025      0.975]\n",
      "------------------------------------------------------------------------------\n",
      "const         10.7871     11.589      0.931      0.362     -13.187      34.761\n",
      "DISSATIS       0.6132      0.161      3.809      0.001       0.280       0.946\n",
      "PRIVILEGE     -0.0731      0.136     -0.538      0.596      -0.354       0.208\n",
      "CHANCE         0.3203      0.169      1.901      0.070      -0.028       0.669\n",
      "ADVANCE        0.0817      0.221      0.369      0.715      -0.376       0.540\n",
      "CRITISM        0.0384      0.147      0.261      0.796      -0.266       0.342\n",
      "PROMOTION     -0.2171      0.178     -1.218      0.236      -0.586       0.152\n",
      "==============================================================================\n",
      "Omnibus:                        2.386   Durbin-Watson:                   1.795\n",
      "Prob(Omnibus):                  0.303   Jarque-Bera (JB):                1.255\n",
      "Skew:                          -0.081   Prob(JB):                        0.534\n",
      "Kurtosis:                       2.011   Cond. No.                     1.34e+03\n",
      "==============================================================================\n",
      "\n",
      "Warnings:\n",
      "[1] Standard Errors assume that the covariance matrix of the errors is correctly specified.\n",
      "[2] The condition number is large, 1.34e+03. This might indicate that there are\n",
      "strong multicollinearity or other numerical problems.\n"
     ]
    }
   ],
   "source": [
    "# 원천 데이터에 절편(const) 추가\n",
    "df_raw_x_const = sm.add_constant(df_raw_x)\n",
    "\n",
    "# 희귀모델 생성\n",
    "reg_model = sm.OLS(df_raw_y, df_raw_x_const)\n",
    "\n",
    "# 회귀모델 적합\n",
    "reg_model = reg_model.fit()\n",
    "\n",
    "# 모델 성능 확인\n",
    "print(reg_model.summary())"
   ]
  },
  {
   "cell_type": "markdown",
   "metadata": {},
   "source": [
    "#### p value가 0.0보다 크다. -> 정규성이 있다.\n",
    "#### 더빈왓슨 -> 독립성. 4~0 (4: -1, 음의 상관성 / 2: 0에 해당(상관성x) / 0: 1, 양의 상관성)"
   ]
  },
  {
   "cell_type": "markdown",
   "metadata": {},
   "source": [
    "### 2) 다중선형 회귀분석 : Scale 변환 데이터 활용"
   ]
  },
  {
   "cell_type": "code",
   "execution_count": 26,
   "metadata": {},
   "outputs": [
    {
     "name": "stdout",
     "output_type": "stream",
     "text": [
      "                            OLS Regression Results                            \n",
      "==============================================================================\n",
      "Dep. Variable:                   EVAL   R-squared:                       0.733\n",
      "Model:                            OLS   Adj. R-squared:                  0.663\n",
      "Method:                 Least Squares   F-statistic:                     10.50\n",
      "Date:                Wed, 08 Jul 2020   Prob (F-statistic):           1.24e-05\n",
      "Time:                        15:50:31   Log-Likelihood:                -97.250\n",
      "No. Observations:                  30   AIC:                             208.5\n",
      "Df Residuals:                      23   BIC:                             218.3\n",
      "Df Model:                           6                                         \n",
      "Covariance Type:            nonrobust                                         \n",
      "==============================================================================\n",
      "                 coef    std err          t      P>|t|      [0.025      0.975]\n",
      "------------------------------------------------------------------------------\n",
      "const         64.6333      1.290     50.087      0.000      61.964      67.303\n",
      "DISSATIS       8.0272      2.107      3.809      0.001       3.668      12.387\n",
      "PRIVILEGE     -0.8788      1.633     -0.538      0.596      -4.256       2.499\n",
      "CHANCE         3.6965      1.945      1.901      0.070      -0.326       7.719\n",
      "ADVANCE        0.8355      2.264      0.369      0.715      -3.848       5.519\n",
      "CRITISM        0.3734      1.430      0.261      0.796      -2.585       3.332\n",
      "PROMOTION     -2.1957      1.803     -1.218      0.236      -5.925       1.534\n",
      "==============================================================================\n",
      "Omnibus:                        2.386   Durbin-Watson:                   1.795\n",
      "Prob(Omnibus):                  0.303   Jarque-Bera (JB):                1.255\n",
      "Skew:                          -0.081   Prob(JB):                        0.534\n",
      "Kurtosis:                       2.011   Cond. No.                         4.07\n",
      "==============================================================================\n",
      "\n",
      "Warnings:\n",
      "[1] Standard Errors assume that the covariance matrix of the errors is correctly specified.\n"
     ]
    }
   ],
   "source": [
    "df_scaled_const = sm.add_constant(df_scaled)\n",
    "reg_model = sm.OLS(df_raw_y, df_scaled_const)\n",
    "reg_model = reg_model.fit()\n",
    "print(reg_model.summary())"
   ]
  },
  {
   "cell_type": "code",
   "execution_count": 27,
   "metadata": {},
   "outputs": [
    {
     "name": "stdout",
     "output_type": "stream",
     "text": [
      "                            OLS Regression Results                            \n",
      "==============================================================================\n",
      "Dep. Variable:                   EVAL   R-squared:                       0.624\n",
      "Model:                            OLS   Adj. R-squared:                  0.580\n",
      "Method:                 Least Squares   F-statistic:                     14.36\n",
      "Date:                Wed, 08 Jul 2020   Prob (F-statistic):           1.02e-05\n",
      "Time:                        15:53:20   Log-Likelihood:                -102.38\n",
      "No. Observations:                  30   AIC:                             212.8\n",
      "Df Residuals:                      26   BIC:                             218.4\n",
      "Df Model:                           3                                         \n",
      "Covariance Type:            nonrobust                                         \n",
      "==============================================================================\n",
      "                 coef    std err          t      P>|t|      [0.025      0.975]\n",
      "------------------------------------------------------------------------------\n",
      "const         64.6333      1.440     44.890      0.000      61.674      67.593\n",
      "Prin1         -4.5451      0.809     -5.620      0.000      -6.208      -2.883\n",
      "Prin2          3.3489      1.435      2.333      0.028       0.399       6.299\n",
      "Prin3         -4.0601      1.648     -2.463      0.021      -7.448      -0.672\n",
      "==============================================================================\n",
      "Omnibus:                        1.252   Durbin-Watson:                   2.154\n",
      "Prob(Omnibus):                  0.535   Jarque-Bera (JB):                1.044\n",
      "Skew:                          -0.237   Prob(JB):                        0.593\n",
      "Kurtosis:                       2.219   Cond. No.                         2.04\n",
      "==============================================================================\n",
      "\n",
      "Warnings:\n",
      "[1] Standard Errors assume that the covariance matrix of the errors is correctly specified.\n"
     ]
    }
   ],
   "source": [
    "x_var = [\"Prin1\",\"Prin2\",\"Prin3\"]\n",
    "\n",
    "df_pca_const = sm.add_constant(df_pca[x_var])\n",
    "\n",
    "reg_model = sm.OLS(df_raw_y,df_pca_const)\n",
    "\n",
    "reg_model = reg_model.fit()\n",
    "\n",
    "print(reg_model.summary())"
   ]
  },
  {
   "cell_type": "markdown",
   "metadata": {},
   "source": [
    "### -> 전체 설명변수 이용 모델보다 2개 주성분 이용한 회귀모델의 설명력이 약 16% 저하됨.\n",
    "\n",
    "### -> 주성분 회귀분석의 회귀계수는 모두 통계적으로 유의미하다."
   ]
  },
  {
   "cell_type": "markdown",
   "metadata": {},
   "source": [
    "R스퀘어 , AdjR스퀘어를 다중선형 회귀분석 - 주성분3개 회귀분석이랑 비교.\n",
    "R스퀘어로 설명력 비교가능 ex)주성분회귀모델의 설명력이 약 11% 저하됨\n",
    "주성분 회귀분석의 회귀계수는 모두 유의 . Pvalue가 0.05보다 작을때.  Prin1,2,3 비교해보면됨. 다중의 경우 프리빌리지~ 프로모션."
   ]
  },
  {
   "cell_type": "markdown",
   "metadata": {},
   "source": [
    "# Scale 유사하면 공분산, 차이크면 상관계수\n",
    "상관계수: 아이젠벨류 >=1 , \n",
    "공분산: 고유값누적비율 >= 80%"
   ]
  }
 ],
 "metadata": {
  "kernelspec": {
   "display_name": "Python 3",
   "language": "python",
   "name": "python3"
  },
  "language_info": {
   "codemirror_mode": {
    "name": "ipython",
    "version": 3
   },
   "file_extension": ".py",
   "mimetype": "text/x-python",
   "name": "python",
   "nbconvert_exporter": "python",
   "pygments_lexer": "ipython3",
   "version": "3.7.6"
  }
 },
 "nbformat": 4,
 "nbformat_minor": 4
}
